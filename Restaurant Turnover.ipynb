{
 "cells": [
  {
   "cell_type": "code",
   "execution_count": 413,
   "id": "952b4c2b",
   "metadata": {},
   "outputs": [],
   "source": [
    "import pandas as pd\n",
    "import numpy as np\n",
    "import seaborn as sns\n",
    "import matplotlib.pyplot as plt\n",
    "np.random.seed(4)\n",
    "from sklearn.model_selection import train_test_split\n",
    "from sklearn.linear_model import LinearRegression\n",
    "from sklearn.impute import SimpleImputer"
   ]
  },
  {
   "cell_type": "code",
   "execution_count": 394,
   "id": "8f8f32ed",
   "metadata": {},
   "outputs": [],
   "source": [
    "data = pd.read_csv('./data/restaurant_turnover_training.csv')\n",
    "data['Comfortability'] = data['Comfortablility']\n",
    "data = data.drop(columns=['Comfortablility', \"Registration Number\"])"
   ]
  },
  {
   "cell_type": "code",
   "execution_count": 395,
   "id": "73080d5f",
   "metadata": {},
   "outputs": [
    {
     "data": {
      "text/plain": [
       "33"
      ]
     },
     "execution_count": 395,
     "metadata": {},
     "output_type": "execute_result"
    }
   ],
   "source": [
    "len(data.columns)"
   ]
  },
  {
   "cell_type": "code",
   "execution_count": 396,
   "id": "58a43bea",
   "metadata": {},
   "outputs": [
    {
     "data": {
      "text/plain": [
       "Live Sports Rating               3288\n",
       "Value Deals Rating               2707\n",
       "Comedy Gigs Rating               2483\n",
       "Live Music Rating                 765\n",
       "Overall Restaurant Rating         212\n",
       "Facebook Popularity Quotient       99\n",
       "Instagram Popularity Quotient      56\n",
       "Resturant Tier                     49\n",
       "Ambience                           25\n",
       "Value for Money                     0\n",
       "Hygiene Rating                      0\n",
       "Food Rating                         0\n",
       "Annual Turnover                     0\n",
       "Order Wait Time                     0\n",
       "Lively                              0\n",
       "Service                             0\n",
       "Privacy                             0\n",
       "Staff Responsivness                 0\n",
       "Restaurant Zomato Rating            0\n",
       "Restaurant City Tier                0\n",
       "Cuisine                             0\n",
       "Restaurant Theme                    0\n",
       "Restaurant Type                     0\n",
       "Open Sitting Available              0\n",
       "Dedicated Parking                   0\n",
       "Situated in a Multi Complex         0\n",
       "Liquor License Obtained             0\n",
       "Fire Audit                          0\n",
       "Endorsed By                         0\n",
       "Opening Day of Restaurant           0\n",
       "Restaurant Location                 0\n",
       "City                                0\n",
       "Comfortability                      0\n",
       "dtype: int64"
      ]
     },
     "execution_count": 396,
     "metadata": {},
     "output_type": "execute_result"
    }
   ],
   "source": [
    "data.isnull().sum().sort_values(ascending=False)"
   ]
  },
  {
   "cell_type": "code",
   "execution_count": 424,
   "id": "d8505ee8",
   "metadata": {},
   "outputs": [
    {
     "ename": "KeyError",
     "evalue": "'Live Sports Rating'",
     "output_type": "error",
     "traceback": [
      "\u001b[1;31m---------------------------------------------------------------------------\u001b[0m",
      "\u001b[1;31mKeyError\u001b[0m                                  Traceback (most recent call last)",
      "\u001b[1;32m~\\Anaconda3\\lib\\site-packages\\pandas\\core\\indexes\\base.py\u001b[0m in \u001b[0;36mget_loc\u001b[1;34m(self, key, method, tolerance)\u001b[0m\n\u001b[0;32m   3079\u001b[0m             \u001b[1;32mtry\u001b[0m\u001b[1;33m:\u001b[0m\u001b[1;33m\u001b[0m\u001b[1;33m\u001b[0m\u001b[0m\n\u001b[1;32m-> 3080\u001b[1;33m                 \u001b[1;32mreturn\u001b[0m \u001b[0mself\u001b[0m\u001b[1;33m.\u001b[0m\u001b[0m_engine\u001b[0m\u001b[1;33m.\u001b[0m\u001b[0mget_loc\u001b[0m\u001b[1;33m(\u001b[0m\u001b[0mcasted_key\u001b[0m\u001b[1;33m)\u001b[0m\u001b[1;33m\u001b[0m\u001b[1;33m\u001b[0m\u001b[0m\n\u001b[0m\u001b[0;32m   3081\u001b[0m             \u001b[1;32mexcept\u001b[0m \u001b[0mKeyError\u001b[0m \u001b[1;32mas\u001b[0m \u001b[0merr\u001b[0m\u001b[1;33m:\u001b[0m\u001b[1;33m\u001b[0m\u001b[1;33m\u001b[0m\u001b[0m\n",
      "\u001b[1;32mpandas\\_libs\\index.pyx\u001b[0m in \u001b[0;36mpandas._libs.index.IndexEngine.get_loc\u001b[1;34m()\u001b[0m\n",
      "\u001b[1;32mpandas\\_libs\\index.pyx\u001b[0m in \u001b[0;36mpandas._libs.index.IndexEngine.get_loc\u001b[1;34m()\u001b[0m\n",
      "\u001b[1;32mpandas\\_libs\\hashtable_class_helper.pxi\u001b[0m in \u001b[0;36mpandas._libs.hashtable.PyObjectHashTable.get_item\u001b[1;34m()\u001b[0m\n",
      "\u001b[1;32mpandas\\_libs\\hashtable_class_helper.pxi\u001b[0m in \u001b[0;36mpandas._libs.hashtable.PyObjectHashTable.get_item\u001b[1;34m()\u001b[0m\n",
      "\u001b[1;31mKeyError\u001b[0m: 'Live Sports Rating'",
      "\nThe above exception was the direct cause of the following exception:\n",
      "\u001b[1;31mKeyError\u001b[0m                                  Traceback (most recent call last)",
      "\u001b[1;32m<ipython-input-424-f13d0c94e810>\u001b[0m in \u001b[0;36m<module>\u001b[1;34m\u001b[0m\n\u001b[0;32m      1\u001b[0m \u001b[1;32mfor\u001b[0m \u001b[0mcol\u001b[0m \u001b[1;32min\u001b[0m \u001b[1;33m[\u001b[0m\u001b[1;34m\"Live Sports Rating\"\u001b[0m\u001b[1;33m,\u001b[0m \u001b[1;34m\"Live Music Rating\"\u001b[0m\u001b[1;33m,\u001b[0m \u001b[1;34m\"Comedy Gigs Rating\"\u001b[0m\u001b[1;33m,\u001b[0m \u001b[1;34m\"Value Deals Rating\"\u001b[0m\u001b[1;33m]\u001b[0m\u001b[1;33m:\u001b[0m\u001b[1;33m\u001b[0m\u001b[1;33m\u001b[0m\u001b[0m\n\u001b[1;32m----> 2\u001b[1;33m     \u001b[0mdata\u001b[0m\u001b[1;33m[\u001b[0m\u001b[1;34m\"has\"\u001b[0m\u001b[1;33m+\u001b[0m\u001b[0mcol\u001b[0m\u001b[1;33m]\u001b[0m \u001b[1;33m=\u001b[0m \u001b[1;33m(\u001b[0m\u001b[1;33m~\u001b[0m\u001b[0mdata\u001b[0m\u001b[1;33m[\u001b[0m\u001b[0mcol\u001b[0m\u001b[1;33m]\u001b[0m\u001b[1;33m.\u001b[0m\u001b[0misnull\u001b[0m\u001b[1;33m(\u001b[0m\u001b[1;33m)\u001b[0m\u001b[1;33m)\u001b[0m\u001b[1;33m.\u001b[0m\u001b[0mastype\u001b[0m\u001b[1;33m(\u001b[0m\u001b[1;34m\"int64\"\u001b[0m\u001b[1;33m)\u001b[0m\u001b[1;33m\u001b[0m\u001b[1;33m\u001b[0m\u001b[0m\n\u001b[0m",
      "\u001b[1;32m~\\Anaconda3\\lib\\site-packages\\pandas\\core\\frame.py\u001b[0m in \u001b[0;36m__getitem__\u001b[1;34m(self, key)\u001b[0m\n\u001b[0;32m   3022\u001b[0m             \u001b[1;32mif\u001b[0m \u001b[0mself\u001b[0m\u001b[1;33m.\u001b[0m\u001b[0mcolumns\u001b[0m\u001b[1;33m.\u001b[0m\u001b[0mnlevels\u001b[0m \u001b[1;33m>\u001b[0m \u001b[1;36m1\u001b[0m\u001b[1;33m:\u001b[0m\u001b[1;33m\u001b[0m\u001b[1;33m\u001b[0m\u001b[0m\n\u001b[0;32m   3023\u001b[0m                 \u001b[1;32mreturn\u001b[0m \u001b[0mself\u001b[0m\u001b[1;33m.\u001b[0m\u001b[0m_getitem_multilevel\u001b[0m\u001b[1;33m(\u001b[0m\u001b[0mkey\u001b[0m\u001b[1;33m)\u001b[0m\u001b[1;33m\u001b[0m\u001b[1;33m\u001b[0m\u001b[0m\n\u001b[1;32m-> 3024\u001b[1;33m             \u001b[0mindexer\u001b[0m \u001b[1;33m=\u001b[0m \u001b[0mself\u001b[0m\u001b[1;33m.\u001b[0m\u001b[0mcolumns\u001b[0m\u001b[1;33m.\u001b[0m\u001b[0mget_loc\u001b[0m\u001b[1;33m(\u001b[0m\u001b[0mkey\u001b[0m\u001b[1;33m)\u001b[0m\u001b[1;33m\u001b[0m\u001b[1;33m\u001b[0m\u001b[0m\n\u001b[0m\u001b[0;32m   3025\u001b[0m             \u001b[1;32mif\u001b[0m \u001b[0mis_integer\u001b[0m\u001b[1;33m(\u001b[0m\u001b[0mindexer\u001b[0m\u001b[1;33m)\u001b[0m\u001b[1;33m:\u001b[0m\u001b[1;33m\u001b[0m\u001b[1;33m\u001b[0m\u001b[0m\n\u001b[0;32m   3026\u001b[0m                 \u001b[0mindexer\u001b[0m \u001b[1;33m=\u001b[0m \u001b[1;33m[\u001b[0m\u001b[0mindexer\u001b[0m\u001b[1;33m]\u001b[0m\u001b[1;33m\u001b[0m\u001b[1;33m\u001b[0m\u001b[0m\n",
      "\u001b[1;32m~\\Anaconda3\\lib\\site-packages\\pandas\\core\\indexes\\base.py\u001b[0m in \u001b[0;36mget_loc\u001b[1;34m(self, key, method, tolerance)\u001b[0m\n\u001b[0;32m   3080\u001b[0m                 \u001b[1;32mreturn\u001b[0m \u001b[0mself\u001b[0m\u001b[1;33m.\u001b[0m\u001b[0m_engine\u001b[0m\u001b[1;33m.\u001b[0m\u001b[0mget_loc\u001b[0m\u001b[1;33m(\u001b[0m\u001b[0mcasted_key\u001b[0m\u001b[1;33m)\u001b[0m\u001b[1;33m\u001b[0m\u001b[1;33m\u001b[0m\u001b[0m\n\u001b[0;32m   3081\u001b[0m             \u001b[1;32mexcept\u001b[0m \u001b[0mKeyError\u001b[0m \u001b[1;32mas\u001b[0m \u001b[0merr\u001b[0m\u001b[1;33m:\u001b[0m\u001b[1;33m\u001b[0m\u001b[1;33m\u001b[0m\u001b[0m\n\u001b[1;32m-> 3082\u001b[1;33m                 \u001b[1;32mraise\u001b[0m \u001b[0mKeyError\u001b[0m\u001b[1;33m(\u001b[0m\u001b[0mkey\u001b[0m\u001b[1;33m)\u001b[0m \u001b[1;32mfrom\u001b[0m \u001b[0merr\u001b[0m\u001b[1;33m\u001b[0m\u001b[1;33m\u001b[0m\u001b[0m\n\u001b[0m\u001b[0;32m   3083\u001b[0m \u001b[1;33m\u001b[0m\u001b[0m\n\u001b[0;32m   3084\u001b[0m         \u001b[1;32mif\u001b[0m \u001b[0mtolerance\u001b[0m \u001b[1;32mis\u001b[0m \u001b[1;32mnot\u001b[0m \u001b[1;32mNone\u001b[0m\u001b[1;33m:\u001b[0m\u001b[1;33m\u001b[0m\u001b[1;33m\u001b[0m\u001b[0m\n",
      "\u001b[1;31mKeyError\u001b[0m: 'Live Sports Rating'"
     ]
    }
   ],
   "source": [
    "for col in [\"Live Sports Rating\", \"Live Music Rating\", \"Comedy Gigs Rating\", \"Value Deals Rating\"]:\n",
    "    data[\"has\"+col] = (~data[col].isnull()).astype(\"int64\")"
   ]
  },
  {
   "cell_type": "code",
   "execution_count": 423,
   "id": "97e7f51a",
   "metadata": {},
   "outputs": [
    {
     "ename": "ValueError",
     "evalue": "Cannot use median strategy with non-numeric data:\ncould not convert string to float: 'no'",
     "output_type": "error",
     "traceback": [
      "\u001b[1;31m---------------------------------------------------------------------------\u001b[0m",
      "\u001b[1;31mValueError\u001b[0m                                Traceback (most recent call last)",
      "\u001b[1;32m<ipython-input-423-e3b24ccd8114>\u001b[0m in \u001b[0;36m<module>\u001b[1;34m\u001b[0m\n\u001b[0;32m      1\u001b[0m \u001b[0mimputer\u001b[0m \u001b[1;33m=\u001b[0m \u001b[0mSimpleImputer\u001b[0m\u001b[1;33m(\u001b[0m\u001b[0mstrategy\u001b[0m\u001b[1;33m=\u001b[0m\u001b[1;34m\"median\"\u001b[0m\u001b[1;33m)\u001b[0m\u001b[1;33m\u001b[0m\u001b[1;33m\u001b[0m\u001b[0m\n\u001b[1;32m----> 2\u001b[1;33m \u001b[0mimputer\u001b[0m\u001b[1;33m.\u001b[0m\u001b[0mfit\u001b[0m\u001b[1;33m(\u001b[0m\u001b[0mdata\u001b[0m\u001b[1;33m[\u001b[0m\u001b[1;33m[\u001b[0m\u001b[0mx\u001b[0m \u001b[1;32mfor\u001b[0m \u001b[0mx\u001b[0m \u001b[1;32min\u001b[0m \u001b[0mdata\u001b[0m \u001b[1;32mif\u001b[0m \u001b[0mx\u001b[0m \u001b[1;32mnot\u001b[0m \u001b[1;32min\u001b[0m \u001b[0mcat_col\u001b[0m\u001b[1;33m]\u001b[0m\u001b[1;33m]\u001b[0m\u001b[1;33m)\u001b[0m\u001b[1;33m\u001b[0m\u001b[1;33m\u001b[0m\u001b[0m\n\u001b[0m\u001b[0;32m      3\u001b[0m \u001b[0mimputer\u001b[0m\u001b[1;33m.\u001b[0m\u001b[0mtransform\u001b[0m\u001b[1;33m(\u001b[0m\u001b[0mdata\u001b[0m\u001b[1;33m)\u001b[0m\u001b[1;33m\u001b[0m\u001b[1;33m\u001b[0m\u001b[0m\n",
      "\u001b[1;32m~\\Anaconda3\\lib\\site-packages\\sklearn\\impute\\_base.py\u001b[0m in \u001b[0;36mfit\u001b[1;34m(self, X, y)\u001b[0m\n\u001b[0;32m    286\u001b[0m         \u001b[0mself\u001b[0m \u001b[1;33m:\u001b[0m \u001b[0mSimpleImputer\u001b[0m\u001b[1;33m\u001b[0m\u001b[1;33m\u001b[0m\u001b[0m\n\u001b[0;32m    287\u001b[0m         \"\"\"\n\u001b[1;32m--> 288\u001b[1;33m         \u001b[0mX\u001b[0m \u001b[1;33m=\u001b[0m \u001b[0mself\u001b[0m\u001b[1;33m.\u001b[0m\u001b[0m_validate_input\u001b[0m\u001b[1;33m(\u001b[0m\u001b[0mX\u001b[0m\u001b[1;33m,\u001b[0m \u001b[0min_fit\u001b[0m\u001b[1;33m=\u001b[0m\u001b[1;32mTrue\u001b[0m\u001b[1;33m)\u001b[0m\u001b[1;33m\u001b[0m\u001b[1;33m\u001b[0m\u001b[0m\n\u001b[0m\u001b[0;32m    289\u001b[0m \u001b[1;33m\u001b[0m\u001b[0m\n\u001b[0;32m    290\u001b[0m         \u001b[1;31m# default fill_value is 0 for numerical input and \"missing_value\"\u001b[0m\u001b[1;33m\u001b[0m\u001b[1;33m\u001b[0m\u001b[1;33m\u001b[0m\u001b[0m\n",
      "\u001b[1;32m~\\Anaconda3\\lib\\site-packages\\sklearn\\impute\\_base.py\u001b[0m in \u001b[0;36m_validate_input\u001b[1;34m(self, X, in_fit)\u001b[0m\n\u001b[0;32m    258\u001b[0m                 new_ve = ValueError(\"Cannot use {} strategy with non-numeric \"\n\u001b[0;32m    259\u001b[0m                                     \"data:\\n{}\".format(self.strategy, ve))\n\u001b[1;32m--> 260\u001b[1;33m                 \u001b[1;32mraise\u001b[0m \u001b[0mnew_ve\u001b[0m \u001b[1;32mfrom\u001b[0m \u001b[1;32mNone\u001b[0m\u001b[1;33m\u001b[0m\u001b[1;33m\u001b[0m\u001b[0m\n\u001b[0m\u001b[0;32m    261\u001b[0m             \u001b[1;32melse\u001b[0m\u001b[1;33m:\u001b[0m\u001b[1;33m\u001b[0m\u001b[1;33m\u001b[0m\u001b[0m\n\u001b[0;32m    262\u001b[0m                 \u001b[1;32mraise\u001b[0m \u001b[0mve\u001b[0m\u001b[1;33m\u001b[0m\u001b[1;33m\u001b[0m\u001b[0m\n",
      "\u001b[1;31mValueError\u001b[0m: Cannot use median strategy with non-numeric data:\ncould not convert string to float: 'no'"
     ]
    }
   ],
   "source": [
    "imputer = SimpleImputer(strategy=\"median\")\n",
    "imputer.fit(data[[x for x in data if x not in cat_col]])\n",
    "imputer.transform(data)"
   ]
  },
  {
   "cell_type": "code",
   "execution_count": 398,
   "id": "deb5c1d6",
   "metadata": {},
   "outputs": [
    {
     "data": {
      "text/plain": [
       "28"
      ]
     },
     "execution_count": 398,
     "metadata": {},
     "output_type": "execute_result"
    }
   ],
   "source": [
    "data=data.dropna(axis=\"columns\")\n",
    "len(data.columns)"
   ]
  },
  {
   "cell_type": "code",
   "execution_count": 399,
   "id": "1f07b0c5",
   "metadata": {},
   "outputs": [
    {
     "data": {
      "text/plain": [
       "Annual Turnover                0\n",
       "Cuisine                        0\n",
       "hasComedy Gigs Rating          0\n",
       "hasLive Music Rating           0\n",
       "hasLive Sports Rating          0\n",
       "Comfortability                 0\n",
       "Privacy                        0\n",
       "Service                        0\n",
       "Lively                         0\n",
       "Food Rating                    0\n",
       "Hygiene Rating                 0\n",
       "Value for Money                0\n",
       "Staff Responsivness            0\n",
       "Order Wait Time                0\n",
       "Restaurant City Tier           0\n",
       "Restaurant Zomato Rating       0\n",
       "Restaurant Theme               0\n",
       "Restaurant Type                0\n",
       "Open Sitting Available         0\n",
       "Dedicated Parking              0\n",
       "Situated in a Multi Complex    0\n",
       "Liquor License Obtained        0\n",
       "Fire Audit                     0\n",
       "Endorsed By                    0\n",
       "Opening Day of Restaurant      0\n",
       "Restaurant Location            0\n",
       "City                           0\n",
       "hasValue Deals Rating          0\n",
       "dtype: int64"
      ]
     },
     "execution_count": 399,
     "metadata": {},
     "output_type": "execute_result"
    }
   ],
   "source": [
    "data.isnull().sum().sort_values(ascending=False)"
   ]
  },
  {
   "cell_type": "code",
   "execution_count": 400,
   "id": "b35a800b",
   "metadata": {},
   "outputs": [
    {
     "name": "stdout",
     "output_type": "stream",
     "text": [
      "float64\n",
      "Series([], dtype: object)\n",
      "int64\n",
      "0                 Annual Turnover\n",
      "1                      Fire Audit\n",
      "2         Liquor License Obtained\n",
      "3     Situated in a Multi Complex\n",
      "4               Dedicated Parking\n",
      "5          Open Sitting Available\n",
      "6        Restaurant Zomato Rating\n",
      "7            Restaurant City Tier\n",
      "8                 Order Wait Time\n",
      "9             Staff Responsivness\n",
      "10                Value for Money\n",
      "11                 Hygiene Rating\n",
      "12                    Food Rating\n",
      "13                         Lively\n",
      "14                        Service\n",
      "15                        Privacy\n",
      "16                 Comfortability\n",
      "dtype: object\n",
      "O\n",
      "0                      Cuisine\n",
      "1                         City\n",
      "2          Restaurant Location\n",
      "3    Opening Day of Restaurant\n",
      "4                  Endorsed By\n",
      "5              Restaurant Type\n",
      "6             Restaurant Theme\n",
      "dtype: object\n"
     ]
    }
   ],
   "source": [
    "for datatype in [\"float64\", \"int64\", \"O\"]:\n",
    "    print(datatype)\n",
    "    print(pd.Series(data.dtypes[data.dtypes.apply(lambda x: x==datatype)].index))"
   ]
  },
  {
   "cell_type": "code",
   "execution_count": 401,
   "id": "41e45e22",
   "metadata": {},
   "outputs": [
    {
     "name": "stdout",
     "output_type": "stream",
     "text": [
      "Cuisine\n",
      "0            indian,irish\n",
      "1         tibetan,italian\n",
      "2        turkish,nigerian\n",
      "3           irish,belgian\n",
      "4           tibetan,greek\n",
      "5     chinese,salvadorian\n",
      "6        algerian,belgian\n",
      "7              welsh,thai\n",
      "8          peruvian,cuban\n",
      "9           japanese,thai\n",
      "10       british,japanese\n",
      "11         nigerian,cajun\n",
      "12      algerian,algerian\n",
      "13          polish,jewish\n",
      "14          cuban,british\n",
      "15        algerian,korean\n",
      "16          swedish,greek\n",
      "17        turkish,sapnish\n",
      "18        british,belgian\n",
      "19       hawaiian,latvian\n",
      "dtype: object \n",
      "\n",
      "\n",
      "City\n",
      "0      Bangalore\n",
      "1         Indore\n",
      "2        Chennai\n",
      "3        Gurgaon\n",
      "4        Manesar\n",
      "         ...    \n",
      "292        bihar\n",
      "293    singaruli\n",
      "294       KANPUR\n",
      "295    Banglore \n",
      "296        pondy\n",
      "Length: 297, dtype: object \n",
      "\n",
      "\n",
      "Restaurant Location\n",
      "0    Near Business Hub\n",
      "1       Near Party Hub\n",
      "dtype: object \n",
      "\n",
      "\n",
      "Opening Day of Restaurant\n",
      "0       14-02-2009\n",
      "1       29-09-2008\n",
      "2       30-07-2011\n",
      "3       30-11-2008\n",
      "4       22-02-2010\n",
      "           ...    \n",
      "1773    27-01-2009\n",
      "1774    15-11-2005\n",
      "1775    07-06-2007\n",
      "1776    27-06-2013\n",
      "1777    15-03-2007\n",
      "Length: 1778, dtype: object \n",
      "\n",
      "\n",
      "Endorsed By\n",
      "0        Not Specific\n",
      "1    Tier A Celebrity\n",
      "2     Local Celebrity\n",
      "dtype: object \n",
      "\n",
      "\n",
      "Restaurant Type\n",
      "0                         Bar\n",
      "1                      Caffee\n",
      "2                  Gastro Bar\n",
      "3    Buffet/Family Restaurant\n",
      "dtype: object \n",
      "\n",
      "\n",
      "Restaurant Theme\n",
      "0       Arabian\n",
      "1         Greek\n",
      "2          90's\n",
      "3        Nature\n",
      "4         Parsi\n",
      "5       English\n",
      "6       Chinese\n",
      "7       Delicio\n",
      "8        Molino\n",
      "9         Petit\n",
      "10     Downtown\n",
      "11      Italica\n",
      "12      Bettaso\n",
      "13       Bakery\n",
      "14      Mise En\n",
      "15        Umami\n",
      "16     Moonrise\n",
      "17       Belise\n",
      "18     Cinnamon\n",
      "19        Resca\n",
      "20       TheGem\n",
      "21    Benedicta\n",
      "22        Marco\n",
      "23    LaCuisine\n",
      "24        Spoon\n",
      "25        Grand\n",
      "26      Picante\n",
      "27      Carbone\n",
      "28      Flavors\n",
      "29      Cafepro\n",
      "30       Savory\n",
      "31      Piquant\n",
      "32         Sage\n",
      "33     Ambiance\n",
      "dtype: object \n",
      "\n",
      "\n"
     ]
    }
   ],
   "source": [
    "cat_col = list(data.dtypes[data.dtypes.apply(lambda x: x==\"O\")].index)\n",
    "for c in cat_col:\n",
    "    print(c)\n",
    "    print(pd.Series(data[c].unique()), \"\\n\\n\")"
   ]
  },
  {
   "cell_type": "markdown",
   "id": "11e9a4fc",
   "metadata": {},
   "source": [
    "There are some data cleaning tasks to do for the categorical variables...capitalization, splitting into two columns, and datetime. Also, there's an idea to already feed it learned information on what the restaurant theme words mean."
   ]
  },
  {
   "cell_type": "code",
   "execution_count": 402,
   "id": "407c850a",
   "metadata": {},
   "outputs": [
    {
     "data": {
      "text/plain": [
       "<AxesSubplot:xlabel='Privacy', ylabel='Count'>"
      ]
     },
     "execution_count": 402,
     "metadata": {},
     "output_type": "execute_result"
    },
    {
     "data": {
      "image/png": "[encoded data removed]",
      "text/plain": [
       "<Figure size 432x288 with 1 Axes>"
      ]
     },
     "metadata": {
      "needs_background": "light"
     },
     "output_type": "display_data"
    }
   ],
   "source": [
    "sns.histplot(np.square(data[\"Privacy\"]))"
   ]
  },
  {
   "cell_type": "code",
   "execution_count": 403,
   "id": "edd1608d",
   "metadata": {},
   "outputs": [
    {
     "name": "stdout",
     "output_type": "stream",
     "text": [
      "Annual Turnover\n"
     ]
    },
    {
     "data": {
      "image/png": "[encoded data removed]",
      "text/plain": [
       "<Figure size 432x288 with 1 Axes>"
      ]
     },
     "metadata": {
      "needs_background": "light"
     },
     "output_type": "display_data"
    },
    {
     "name": "stdout",
     "output_type": "stream",
     "text": [
      "Restaurant Zomato Rating\n"
     ]
    },
    {
     "data": {
      "image/png": "[encoded data removed]",
      "text/plain": [
       "<Figure size 432x288 with 1 Axes>"
      ]
     },
     "metadata": {
      "needs_background": "light"
     },
     "output_type": "display_data"
    },
    {
     "name": "stdout",
     "output_type": "stream",
     "text": [
      "Order Wait Time\n"
     ]
    },
    {
     "data": {
      "image/png": "[encoded data removed]",
      "text/plain": [
       "<Figure size 432x288 with 1 Axes>"
      ]
     },
     "metadata": {
      "needs_background": "light"
     },
     "output_type": "display_data"
    },
    {
     "name": "stdout",
     "output_type": "stream",
     "text": [
      "Staff Responsivness\n"
     ]
    },
    {
     "data": {
      "image/png": "[encoded data removed]",
      "text/plain": [
       "<Figure size 432x288 with 1 Axes>"
      ]
     },
     "metadata": {
      "needs_background": "light"
     },
     "output_type": "display_data"
    },
    {
     "name": "stdout",
     "output_type": "stream",
     "text": [
      "Value for Money\n"
     ]
    },
    {
     "data": {
      "image/png": "[encoded data removed]",
      "text/plain": [
       "<Figure size 432x288 with 1 Axes>"
      ]
     },
     "metadata": {
      "needs_background": "light"
     },
     "output_type": "display_data"
    },
    {
     "name": "stdout",
     "output_type": "stream",
     "text": [
      "Hygiene Rating\n"
     ]
    },
    {
     "data": {
      "image/png": "[encoded data removed]",
      "text/plain": [
       "<Figure size 432x288 with 1 Axes>"
      ]
     },
     "metadata": {
      "needs_background": "light"
     },
     "output_type": "display_data"
    },
    {
     "name": "stdout",
     "output_type": "stream",
     "text": [
      "Food Rating\n"
     ]
    },
    {
     "data": {
      "image/png": "[encoded data removed]",
      "text/plain": [
       "<Figure size 432x288 with 1 Axes>"
      ]
     },
     "metadata": {
      "needs_background": "light"
     },
     "output_type": "display_data"
    },
    {
     "name": "stdout",
     "output_type": "stream",
     "text": [
      "Lively\n"
     ]
    },
    {
     "data": {
      "image/png": "[encoded data removed]",
      "text/plain": [
       "<Figure size 432x288 with 1 Axes>"
      ]
     },
     "metadata": {
      "needs_background": "light"
     },
     "output_type": "display_data"
    },
    {
     "name": "stdout",
     "output_type": "stream",
     "text": [
      "Service\n"
     ]
    },
    {
     "data": {
      "image/png": "[encoded data removed]",
      "text/plain": [
       "<Figure size 432x288 with 1 Axes>"
      ]
     },
     "metadata": {
      "needs_background": "light"
     },
     "output_type": "display_data"
    },
    {
     "name": "stdout",
     "output_type": "stream",
     "text": [
      "Privacy\n"
     ]
    },
    {
     "data": {
      "image/png": "[encoded data removed]",
      "text/plain": [
       "<Figure size 432x288 with 1 Axes>"
      ]
     },
     "metadata": {
      "needs_background": "light"
     },
     "output_type": "display_data"
    },
    {
     "name": "stdout",
     "output_type": "stream",
     "text": [
      "Comfortability\n"
     ]
    },
    {
     "data": {
      "image/png": "[encoded data removed]",
      "text/plain": [
       "<Figure size 432x288 with 1 Axes>"
      ]
     },
     "metadata": {
      "needs_background": "light"
     },
     "output_type": "display_data"
    }
   ],
   "source": [
    "int_col = list(data.dtypes[data.dtypes.apply(lambda x: x==\"int64\")].index)\n",
    "for c in int_col:\n",
    "    if len(data[c].value_counts()) <= 2:\n",
    "        data[c] = data[c].astype('category')\n",
    "        continue\n",
    "    print(c)\n",
    "    plt.hist(data[c])\n",
    "    plt.show()"
   ]
  },
  {
   "cell_type": "code",
   "execution_count": 404,
   "id": "cdcbc92e",
   "metadata": {},
   "outputs": [],
   "source": [
    "int_col = list(data.dtypes[data.dtypes.apply(lambda x: x==\"int64\")].index)"
   ]
  },
  {
   "cell_type": "code",
   "execution_count": 405,
   "id": "28b351a0",
   "metadata": {},
   "outputs": [
    {
     "data": {
      "text/plain": [
       "5"
      ]
     },
     "execution_count": 405,
     "metadata": {},
     "output_type": "execute_result"
    }
   ],
   "source": [
    "data['Restaurant Zomato Rating'].max()"
   ]
  },
  {
   "cell_type": "code",
   "execution_count": 406,
   "id": "71fdd601",
   "metadata": {},
   "outputs": [
    {
     "name": "stderr",
     "output_type": "stream",
     "text": [
      "C:\\Users\\kevin\\Anaconda3\\lib\\site-packages\\seaborn\\_decorators.py:36: FutureWarning: Pass the following variable as a keyword arg: x. From version 0.12, the only valid positional argument will be `data`, and passing other arguments without an explicit keyword will result in an error or misinterpretation.\n",
      "  warnings.warn(\n"
     ]
    },
    {
     "data": {
      "text/plain": [
       "<AxesSubplot:xlabel='Order Wait Time'>"
      ]
     },
     "execution_count": 406,
     "metadata": {},
     "output_type": "execute_result"
    },
    {
     "data": {
      "image/png": "[encoded data removed]",
      "text/plain": [
       "<Figure size 432x288 with 1 Axes>"
      ]
     },
     "metadata": {
      "needs_background": "light"
     },
     "output_type": "display_data"
    }
   ],
   "source": [
    "sns.boxplot(data['Order Wait Time'])"
   ]
  },
  {
   "cell_type": "code",
   "execution_count": 407,
   "id": "2af3cb4c",
   "metadata": {},
   "outputs": [],
   "source": [
    "data[\"log_Annual Turnover\"] = np.log(data[\"Annual Turnover\"])\n",
    "data[\"square_Lively\"] = np.square(data[\"Lively\"])\n",
    "data[\"square_Privacy\"] = np.square(data[\"Privacy\"])\n",
    "data[\"log_Comfortability\"] = np.log(5+data[\"Comfortability\"])\n",
    "data = data.drop(columns=[\"Annual Turnover\", \"Lively\"])\n",
    "# sns.pairplot(randata[[\"Annual Turnover\", \"Facebook Popularity Quotient\", \"Instagram Popularity Quotient\"]])"
   ]
  },
  {
   "cell_type": "code",
   "execution_count": 408,
   "id": "24960982",
   "metadata": {},
   "outputs": [
    {
     "data": {
      "text/html": [
       "<div>\n",
       "<style scoped>\n",
       "    .dataframe tbody tr th:only-of-type {\n",
       "        vertical-align: middle;\n",
       "    }\n",
       "\n",
       "    .dataframe tbody tr th {\n",
       "        vertical-align: top;\n",
       "    }\n",
       "\n",
       "    .dataframe thead th {\n",
       "        text-align: right;\n",
       "    }\n",
       "</style>\n",
       "<table border=\"1\" class=\"dataframe\">\n",
       "  <thead>\n",
       "    <tr style=\"text-align: right;\">\n",
       "      <th></th>\n",
       "      <th>Restaurant Zomato Rating</th>\n",
       "      <th>Order Wait Time</th>\n",
       "      <th>Staff Responsivness</th>\n",
       "      <th>Value for Money</th>\n",
       "      <th>Hygiene Rating</th>\n",
       "      <th>Food Rating</th>\n",
       "      <th>Service</th>\n",
       "      <th>Privacy</th>\n",
       "      <th>Comfortability</th>\n",
       "      <th>log_Annual Turnover</th>\n",
       "      <th>square_Lively</th>\n",
       "      <th>square_Privacy</th>\n",
       "      <th>log_Comfortability</th>\n",
       "    </tr>\n",
       "  </thead>\n",
       "  <tbody>\n",
       "    <tr>\n",
       "      <th>Restaurant Zomato Rating</th>\n",
       "      <td>1.000000</td>\n",
       "      <td>-0.000871</td>\n",
       "      <td>0.118990</td>\n",
       "      <td>0.175547</td>\n",
       "      <td>0.205512</td>\n",
       "      <td>0.016918</td>\n",
       "      <td>-0.009764</td>\n",
       "      <td>0.041965</td>\n",
       "      <td>-0.085560</td>\n",
       "      <td>0.186923</td>\n",
       "      <td>0.091894</td>\n",
       "      <td>0.036697</td>\n",
       "      <td>-0.081301</td>\n",
       "    </tr>\n",
       "    <tr>\n",
       "      <th>Order Wait Time</th>\n",
       "      <td>-0.000871</td>\n",
       "      <td>1.000000</td>\n",
       "      <td>0.011599</td>\n",
       "      <td>-0.007479</td>\n",
       "      <td>-0.006227</td>\n",
       "      <td>-0.016510</td>\n",
       "      <td>-0.025671</td>\n",
       "      <td>-0.009726</td>\n",
       "      <td>-0.012320</td>\n",
       "      <td>0.009711</td>\n",
       "      <td>-0.010167</td>\n",
       "      <td>-0.012139</td>\n",
       "      <td>-0.012808</td>\n",
       "    </tr>\n",
       "    <tr>\n",
       "      <th>Staff Responsivness</th>\n",
       "      <td>0.118990</td>\n",
       "      <td>0.011599</td>\n",
       "      <td>1.000000</td>\n",
       "      <td>0.411549</td>\n",
       "      <td>0.356265</td>\n",
       "      <td>-0.003087</td>\n",
       "      <td>0.012477</td>\n",
       "      <td>0.057677</td>\n",
       "      <td>-0.143064</td>\n",
       "      <td>0.235229</td>\n",
       "      <td>0.175202</td>\n",
       "      <td>0.041876</td>\n",
       "      <td>-0.146372</td>\n",
       "    </tr>\n",
       "    <tr>\n",
       "      <th>Value for Money</th>\n",
       "      <td>0.175547</td>\n",
       "      <td>-0.007479</td>\n",
       "      <td>0.411549</td>\n",
       "      <td>1.000000</td>\n",
       "      <td>0.475350</td>\n",
       "      <td>-0.018981</td>\n",
       "      <td>-0.002434</td>\n",
       "      <td>0.044321</td>\n",
       "      <td>-0.157119</td>\n",
       "      <td>0.229903</td>\n",
       "      <td>0.150099</td>\n",
       "      <td>0.028986</td>\n",
       "      <td>-0.159571</td>\n",
       "    </tr>\n",
       "    <tr>\n",
       "      <th>Hygiene Rating</th>\n",
       "      <td>0.205512</td>\n",
       "      <td>-0.006227</td>\n",
       "      <td>0.356265</td>\n",
       "      <td>0.475350</td>\n",
       "      <td>1.000000</td>\n",
       "      <td>-0.016447</td>\n",
       "      <td>-0.024494</td>\n",
       "      <td>0.015707</td>\n",
       "      <td>-0.142005</td>\n",
       "      <td>0.331148</td>\n",
       "      <td>0.097453</td>\n",
       "      <td>0.001286</td>\n",
       "      <td>-0.141220</td>\n",
       "    </tr>\n",
       "    <tr>\n",
       "      <th>Food Rating</th>\n",
       "      <td>0.016918</td>\n",
       "      <td>-0.016510</td>\n",
       "      <td>-0.003087</td>\n",
       "      <td>-0.018981</td>\n",
       "      <td>-0.016447</td>\n",
       "      <td>1.000000</td>\n",
       "      <td>0.018998</td>\n",
       "      <td>0.034002</td>\n",
       "      <td>-0.004703</td>\n",
       "      <td>0.000220</td>\n",
       "      <td>0.005879</td>\n",
       "      <td>0.042820</td>\n",
       "      <td>-0.006467</td>\n",
       "    </tr>\n",
       "    <tr>\n",
       "      <th>Service</th>\n",
       "      <td>-0.009764</td>\n",
       "      <td>-0.025671</td>\n",
       "      <td>0.012477</td>\n",
       "      <td>-0.002434</td>\n",
       "      <td>-0.024494</td>\n",
       "      <td>0.018998</td>\n",
       "      <td>1.000000</td>\n",
       "      <td>0.402005</td>\n",
       "      <td>-0.097890</td>\n",
       "      <td>-0.010431</td>\n",
       "      <td>0.409358</td>\n",
       "      <td>0.381095</td>\n",
       "      <td>-0.111878</td>\n",
       "    </tr>\n",
       "    <tr>\n",
       "      <th>Privacy</th>\n",
       "      <td>0.041965</td>\n",
       "      <td>-0.009726</td>\n",
       "      <td>0.057677</td>\n",
       "      <td>0.044321</td>\n",
       "      <td>0.015707</td>\n",
       "      <td>0.034002</td>\n",
       "      <td>0.402005</td>\n",
       "      <td>1.000000</td>\n",
       "      <td>-0.075540</td>\n",
       "      <td>-0.001283</td>\n",
       "      <td>0.503672</td>\n",
       "      <td>0.968808</td>\n",
       "      <td>-0.086127</td>\n",
       "    </tr>\n",
       "    <tr>\n",
       "      <th>Comfortability</th>\n",
       "      <td>-0.085560</td>\n",
       "      <td>-0.012320</td>\n",
       "      <td>-0.143064</td>\n",
       "      <td>-0.157119</td>\n",
       "      <td>-0.142005</td>\n",
       "      <td>-0.004703</td>\n",
       "      <td>-0.097890</td>\n",
       "      <td>-0.075540</td>\n",
       "      <td>1.000000</td>\n",
       "      <td>-0.096047</td>\n",
       "      <td>-0.228057</td>\n",
       "      <td>-0.078062</td>\n",
       "      <td>0.989242</td>\n",
       "    </tr>\n",
       "    <tr>\n",
       "      <th>log_Annual Turnover</th>\n",
       "      <td>0.186923</td>\n",
       "      <td>0.009711</td>\n",
       "      <td>0.235229</td>\n",
       "      <td>0.229903</td>\n",
       "      <td>0.331148</td>\n",
       "      <td>0.000220</td>\n",
       "      <td>-0.010431</td>\n",
       "      <td>-0.001283</td>\n",
       "      <td>-0.096047</td>\n",
       "      <td>1.000000</td>\n",
       "      <td>0.075286</td>\n",
       "      <td>-0.018258</td>\n",
       "      <td>-0.089429</td>\n",
       "    </tr>\n",
       "    <tr>\n",
       "      <th>square_Lively</th>\n",
       "      <td>0.091894</td>\n",
       "      <td>-0.010167</td>\n",
       "      <td>0.175202</td>\n",
       "      <td>0.150099</td>\n",
       "      <td>0.097453</td>\n",
       "      <td>0.005879</td>\n",
       "      <td>0.409358</td>\n",
       "      <td>0.503672</td>\n",
       "      <td>-0.228057</td>\n",
       "      <td>0.075286</td>\n",
       "      <td>1.000000</td>\n",
       "      <td>0.475361</td>\n",
       "      <td>-0.243446</td>\n",
       "    </tr>\n",
       "    <tr>\n",
       "      <th>square_Privacy</th>\n",
       "      <td>0.036697</td>\n",
       "      <td>-0.012139</td>\n",
       "      <td>0.041876</td>\n",
       "      <td>0.028986</td>\n",
       "      <td>0.001286</td>\n",
       "      <td>0.042820</td>\n",
       "      <td>0.381095</td>\n",
       "      <td>0.968808</td>\n",
       "      <td>-0.078062</td>\n",
       "      <td>-0.018258</td>\n",
       "      <td>0.475361</td>\n",
       "      <td>1.000000</td>\n",
       "      <td>-0.088594</td>\n",
       "    </tr>\n",
       "    <tr>\n",
       "      <th>log_Comfortability</th>\n",
       "      <td>-0.081301</td>\n",
       "      <td>-0.012808</td>\n",
       "      <td>-0.146372</td>\n",
       "      <td>-0.159571</td>\n",
       "      <td>-0.141220</td>\n",
       "      <td>-0.006467</td>\n",
       "      <td>-0.111878</td>\n",
       "      <td>-0.086127</td>\n",
       "      <td>0.989242</td>\n",
       "      <td>-0.089429</td>\n",
       "      <td>-0.243446</td>\n",
       "      <td>-0.088594</td>\n",
       "      <td>1.000000</td>\n",
       "    </tr>\n",
       "  </tbody>\n",
       "</table>\n",
       "</div>"
      ],
      "text/plain": [
       "                          Restaurant Zomato Rating  Order Wait Time  \\\n",
       "Restaurant Zomato Rating                  1.000000        -0.000871   \n",
       "Order Wait Time                          -0.000871         1.000000   \n",
       "Staff Responsivness                       0.118990         0.011599   \n",
       "Value for Money                           0.175547        -0.007479   \n",
       "Hygiene Rating                            0.205512        -0.006227   \n",
       "Food Rating                               0.016918        -0.016510   \n",
       "Service                                  -0.009764        -0.025671   \n",
       "Privacy                                   0.041965        -0.009726   \n",
       "Comfortability                           -0.085560        -0.012320   \n",
       "log_Annual Turnover                       0.186923         0.009711   \n",
       "square_Lively                             0.091894        -0.010167   \n",
       "square_Privacy                            0.036697        -0.012139   \n",
       "log_Comfortability                       -0.081301        -0.012808   \n",
       "\n",
       "                          Staff Responsivness  Value for Money  \\\n",
       "Restaurant Zomato Rating             0.118990         0.175547   \n",
       "Order Wait Time                      0.011599        -0.007479   \n",
       "Staff Responsivness                  1.000000         0.411549   \n",
       "Value for Money                      0.411549         1.000000   \n",
       "Hygiene Rating                       0.356265         0.475350   \n",
       "Food Rating                         -0.003087        -0.018981   \n",
       "Service                              0.012477        -0.002434   \n",
       "Privacy                              0.057677         0.044321   \n",
       "Comfortability                      -0.143064        -0.157119   \n",
       "log_Annual Turnover                  0.235229         0.229903   \n",
       "square_Lively                        0.175202         0.150099   \n",
       "square_Privacy                       0.041876         0.028986   \n",
       "log_Comfortability                  -0.146372        -0.159571   \n",
       "\n",
       "                          Hygiene Rating  Food Rating   Service   Privacy  \\\n",
       "Restaurant Zomato Rating        0.205512     0.016918 -0.009764  0.041965   \n",
       "Order Wait Time                -0.006227    -0.016510 -0.025671 -0.009726   \n",
       "Staff Responsivness             0.356265    -0.003087  0.012477  0.057677   \n",
       "Value for Money                 0.475350    -0.018981 -0.002434  0.044321   \n",
       "Hygiene Rating                  1.000000    -0.016447 -0.024494  0.015707   \n",
       "Food Rating                    -0.016447     1.000000  0.018998  0.034002   \n",
       "Service                        -0.024494     0.018998  1.000000  0.402005   \n",
       "Privacy                         0.015707     0.034002  0.402005  1.000000   \n",
       "Comfortability                 -0.142005    -0.004703 -0.097890 -0.075540   \n",
       "log_Annual Turnover             0.331148     0.000220 -0.010431 -0.001283   \n",
       "square_Lively                   0.097453     0.005879  0.409358  0.503672   \n",
       "square_Privacy                  0.001286     0.042820  0.381095  0.968808   \n",
       "log_Comfortability             -0.141220    -0.006467 -0.111878 -0.086127   \n",
       "\n",
       "                          Comfortability  log_Annual Turnover  square_Lively  \\\n",
       "Restaurant Zomato Rating       -0.085560             0.186923       0.091894   \n",
       "Order Wait Time                -0.012320             0.009711      -0.010167   \n",
       "Staff Responsivness            -0.143064             0.235229       0.175202   \n",
       "Value for Money                -0.157119             0.229903       0.150099   \n",
       "Hygiene Rating                 -0.142005             0.331148       0.097453   \n",
       "Food Rating                    -0.004703             0.000220       0.005879   \n",
       "Service                        -0.097890            -0.010431       0.409358   \n",
       "Privacy                        -0.075540            -0.001283       0.503672   \n",
       "Comfortability                  1.000000            -0.096047      -0.228057   \n",
       "log_Annual Turnover            -0.096047             1.000000       0.075286   \n",
       "square_Lively                  -0.228057             0.075286       1.000000   \n",
       "square_Privacy                 -0.078062            -0.018258       0.475361   \n",
       "log_Comfortability              0.989242            -0.089429      -0.243446   \n",
       "\n",
       "                          square_Privacy  log_Comfortability  \n",
       "Restaurant Zomato Rating        0.036697           -0.081301  \n",
       "Order Wait Time                -0.012139           -0.012808  \n",
       "Staff Responsivness             0.041876           -0.146372  \n",
       "Value for Money                 0.028986           -0.159571  \n",
       "Hygiene Rating                  0.001286           -0.141220  \n",
       "Food Rating                     0.042820           -0.006467  \n",
       "Service                         0.381095           -0.111878  \n",
       "Privacy                         0.968808           -0.086127  \n",
       "Comfortability                 -0.078062            0.989242  \n",
       "log_Annual Turnover            -0.018258           -0.089429  \n",
       "square_Lively                   0.475361           -0.243446  \n",
       "square_Privacy                  1.000000           -0.088594  \n",
       "log_Comfortability             -0.088594            1.000000  "
      ]
     },
     "execution_count": 408,
     "metadata": {},
     "output_type": "execute_result"
    }
   ],
   "source": [
    "data.corr()"
   ]
  },
  {
   "cell_type": "code",
   "execution_count": 409,
   "id": "b414c65a",
   "metadata": {},
   "outputs": [],
   "source": [
    "X = data.drop(columns=[*cat_col, \"log_Annual Turnover\", \"Order Wait Time\", \"Food Rating\"])\n",
    "y = data[\"log_Annual Turnover\"]\n",
    "X_train, X_test, y_train, y_test = train_test_split(X, y, test_size=0.3, random_state=33)"
   ]
  },
  {
   "cell_type": "code",
   "execution_count": 411,
   "id": "eeef6efc",
   "metadata": {},
   "outputs": [
    {
     "name": "stdout",
     "output_type": "stream",
     "text": [
      "<class 'pandas.core.frame.DataFrame'>\n",
      "Int64Index: 1048 entries, 2036 to 3281\n",
      "Data columns (total 20 columns):\n",
      " #   Column                       Non-Null Count  Dtype   \n",
      "---  ------                       --------------  -----   \n",
      " 0   Fire Audit                   1048 non-null   category\n",
      " 1   Liquor License Obtained      1048 non-null   category\n",
      " 2   Situated in a Multi Complex  1048 non-null   category\n",
      " 3   Dedicated Parking            1048 non-null   category\n",
      " 4   Open Sitting Available       1048 non-null   category\n",
      " 5   Restaurant Zomato Rating     1048 non-null   int64   \n",
      " 6   Restaurant City Tier         1048 non-null   category\n",
      " 7   Staff Responsivness          1048 non-null   int64   \n",
      " 8   Value for Money              1048 non-null   int64   \n",
      " 9   Hygiene Rating               1048 non-null   int64   \n",
      " 10  Service                      1048 non-null   int64   \n",
      " 11  Privacy                      1048 non-null   int64   \n",
      " 12  Comfortability               1048 non-null   int64   \n",
      " 13  hasLive Sports Rating        1048 non-null   category\n",
      " 14  hasLive Music Rating         1048 non-null   category\n",
      " 15  hasComedy Gigs Rating        1048 non-null   category\n",
      " 16  hasValue Deals Rating        1048 non-null   category\n",
      " 17  square_Lively                1048 non-null   int64   \n",
      " 18  square_Privacy               1048 non-null   int64   \n",
      " 19  log_Comfortability           1048 non-null   float64 \n",
      "dtypes: category(10), float64(1), int64(9)\n",
      "memory usage: 101.5 KB\n"
     ]
    }
   ],
   "source": [
    "X_test.info()"
   ]
  },
  {
   "cell_type": "code",
   "execution_count": 412,
   "id": "5d4374b2",
   "metadata": {},
   "outputs": [
    {
     "name": "stderr",
     "output_type": "stream",
     "text": [
      "C:\\Users\\kevin\\Anaconda3\\lib\\site-packages\\sklearn\\utils\\validation.py:63: FutureWarning: Arrays of bytes/strings is being converted to decimal numbers if dtype='numeric'. This behavior is deprecated in 0.24 and will be removed in 1.1 (renaming of 0.26). Please convert your data to numeric values explicitly instead.\n",
      "  return f(*args, **kwargs)\n"
     ]
    },
    {
     "ename": "ValueError",
     "evalue": "Unable to convert array of bytes/strings into decimal numbers with dtype='numeric'",
     "output_type": "error",
     "traceback": [
      "\u001b[1;31m---------------------------------------------------------------------------\u001b[0m",
      "\u001b[1;31mValueError\u001b[0m                                Traceback (most recent call last)",
      "\u001b[1;32m~\\Anaconda3\\lib\\site-packages\\sklearn\\utils\\validation.py\u001b[0m in \u001b[0;36mcheck_array\u001b[1;34m(array, accept_sparse, accept_large_sparse, dtype, order, copy, force_all_finite, ensure_2d, allow_nd, ensure_min_samples, ensure_min_features, estimator)\u001b[0m\n\u001b[0;32m    652\u001b[0m             \u001b[1;32mtry\u001b[0m\u001b[1;33m:\u001b[0m\u001b[1;33m\u001b[0m\u001b[1;33m\u001b[0m\u001b[0m\n\u001b[1;32m--> 653\u001b[1;33m                 \u001b[0marray\u001b[0m \u001b[1;33m=\u001b[0m \u001b[0marray\u001b[0m\u001b[1;33m.\u001b[0m\u001b[0mastype\u001b[0m\u001b[1;33m(\u001b[0m\u001b[0mnp\u001b[0m\u001b[1;33m.\u001b[0m\u001b[0mfloat64\u001b[0m\u001b[1;33m)\u001b[0m\u001b[1;33m\u001b[0m\u001b[1;33m\u001b[0m\u001b[0m\n\u001b[0m\u001b[0;32m    654\u001b[0m             \u001b[1;32mexcept\u001b[0m \u001b[0mValueError\u001b[0m \u001b[1;32mas\u001b[0m \u001b[0me\u001b[0m\u001b[1;33m:\u001b[0m\u001b[1;33m\u001b[0m\u001b[1;33m\u001b[0m\u001b[0m\n",
      "\u001b[1;31mValueError\u001b[0m: could not convert string to float: 'no'",
      "\nThe above exception was the direct cause of the following exception:\n",
      "\u001b[1;31mValueError\u001b[0m                                Traceback (most recent call last)",
      "\u001b[1;32m<ipython-input-412-91d529036ca3>\u001b[0m in \u001b[0;36m<module>\u001b[1;34m\u001b[0m\n\u001b[0;32m      1\u001b[0m \u001b[0mmodel\u001b[0m \u001b[1;33m=\u001b[0m \u001b[0mLinearRegression\u001b[0m\u001b[1;33m(\u001b[0m\u001b[1;33m)\u001b[0m\u001b[1;33m\u001b[0m\u001b[1;33m\u001b[0m\u001b[0m\n\u001b[1;32m----> 2\u001b[1;33m \u001b[0mmodel\u001b[0m\u001b[1;33m.\u001b[0m\u001b[0mfit\u001b[0m\u001b[1;33m(\u001b[0m\u001b[0mX_train\u001b[0m\u001b[1;33m,\u001b[0m \u001b[0my_train\u001b[0m\u001b[1;33m)\u001b[0m\u001b[1;33m\u001b[0m\u001b[1;33m\u001b[0m\u001b[0m\n\u001b[0m\u001b[0;32m      3\u001b[0m \u001b[0mprint\u001b[0m\u001b[1;33m(\u001b[0m\u001b[0mmodel\u001b[0m\u001b[1;33m.\u001b[0m\u001b[0mscore\u001b[0m\u001b[1;33m(\u001b[0m\u001b[0mX_train\u001b[0m\u001b[1;33m,\u001b[0m \u001b[0my_train\u001b[0m\u001b[1;33m)\u001b[0m\u001b[1;33m)\u001b[0m\u001b[1;33m\u001b[0m\u001b[1;33m\u001b[0m\u001b[0m\n\u001b[0;32m      4\u001b[0m \u001b[0mmodel\u001b[0m\u001b[1;33m.\u001b[0m\u001b[0mscore\u001b[0m\u001b[1;33m(\u001b[0m\u001b[0mX_test\u001b[0m\u001b[1;33m,\u001b[0m \u001b[0my_test\u001b[0m\u001b[1;33m)\u001b[0m\u001b[1;33m\u001b[0m\u001b[1;33m\u001b[0m\u001b[0m\n",
      "\u001b[1;32m~\\Anaconda3\\lib\\site-packages\\sklearn\\linear_model\\_base.py\u001b[0m in \u001b[0;36mfit\u001b[1;34m(self, X, y, sample_weight)\u001b[0m\n\u001b[0;32m    516\u001b[0m         \u001b[0maccept_sparse\u001b[0m \u001b[1;33m=\u001b[0m \u001b[1;32mFalse\u001b[0m \u001b[1;32mif\u001b[0m \u001b[0mself\u001b[0m\u001b[1;33m.\u001b[0m\u001b[0mpositive\u001b[0m \u001b[1;32melse\u001b[0m \u001b[1;33m[\u001b[0m\u001b[1;34m'csr'\u001b[0m\u001b[1;33m,\u001b[0m \u001b[1;34m'csc'\u001b[0m\u001b[1;33m,\u001b[0m \u001b[1;34m'coo'\u001b[0m\u001b[1;33m]\u001b[0m\u001b[1;33m\u001b[0m\u001b[1;33m\u001b[0m\u001b[0m\n\u001b[0;32m    517\u001b[0m \u001b[1;33m\u001b[0m\u001b[0m\n\u001b[1;32m--> 518\u001b[1;33m         X, y = self._validate_data(X, y, accept_sparse=accept_sparse,\n\u001b[0m\u001b[0;32m    519\u001b[0m                                    y_numeric=True, multi_output=True)\n\u001b[0;32m    520\u001b[0m \u001b[1;33m\u001b[0m\u001b[0m\n",
      "\u001b[1;32m~\\Anaconda3\\lib\\site-packages\\sklearn\\base.py\u001b[0m in \u001b[0;36m_validate_data\u001b[1;34m(self, X, y, reset, validate_separately, **check_params)\u001b[0m\n\u001b[0;32m    431\u001b[0m                 \u001b[0my\u001b[0m \u001b[1;33m=\u001b[0m \u001b[0mcheck_array\u001b[0m\u001b[1;33m(\u001b[0m\u001b[0my\u001b[0m\u001b[1;33m,\u001b[0m \u001b[1;33m**\u001b[0m\u001b[0mcheck_y_params\u001b[0m\u001b[1;33m)\u001b[0m\u001b[1;33m\u001b[0m\u001b[1;33m\u001b[0m\u001b[0m\n\u001b[0;32m    432\u001b[0m             \u001b[1;32melse\u001b[0m\u001b[1;33m:\u001b[0m\u001b[1;33m\u001b[0m\u001b[1;33m\u001b[0m\u001b[0m\n\u001b[1;32m--> 433\u001b[1;33m                 \u001b[0mX\u001b[0m\u001b[1;33m,\u001b[0m \u001b[0my\u001b[0m \u001b[1;33m=\u001b[0m \u001b[0mcheck_X_y\u001b[0m\u001b[1;33m(\u001b[0m\u001b[0mX\u001b[0m\u001b[1;33m,\u001b[0m \u001b[0my\u001b[0m\u001b[1;33m,\u001b[0m \u001b[1;33m**\u001b[0m\u001b[0mcheck_params\u001b[0m\u001b[1;33m)\u001b[0m\u001b[1;33m\u001b[0m\u001b[1;33m\u001b[0m\u001b[0m\n\u001b[0m\u001b[0;32m    434\u001b[0m             \u001b[0mout\u001b[0m \u001b[1;33m=\u001b[0m \u001b[0mX\u001b[0m\u001b[1;33m,\u001b[0m \u001b[0my\u001b[0m\u001b[1;33m\u001b[0m\u001b[1;33m\u001b[0m\u001b[0m\n\u001b[0;32m    435\u001b[0m \u001b[1;33m\u001b[0m\u001b[0m\n",
      "\u001b[1;32m~\\Anaconda3\\lib\\site-packages\\sklearn\\utils\\validation.py\u001b[0m in \u001b[0;36minner_f\u001b[1;34m(*args, **kwargs)\u001b[0m\n\u001b[0;32m     61\u001b[0m             \u001b[0mextra_args\u001b[0m \u001b[1;33m=\u001b[0m \u001b[0mlen\u001b[0m\u001b[1;33m(\u001b[0m\u001b[0margs\u001b[0m\u001b[1;33m)\u001b[0m \u001b[1;33m-\u001b[0m \u001b[0mlen\u001b[0m\u001b[1;33m(\u001b[0m\u001b[0mall_args\u001b[0m\u001b[1;33m)\u001b[0m\u001b[1;33m\u001b[0m\u001b[1;33m\u001b[0m\u001b[0m\n\u001b[0;32m     62\u001b[0m             \u001b[1;32mif\u001b[0m \u001b[0mextra_args\u001b[0m \u001b[1;33m<=\u001b[0m \u001b[1;36m0\u001b[0m\u001b[1;33m:\u001b[0m\u001b[1;33m\u001b[0m\u001b[1;33m\u001b[0m\u001b[0m\n\u001b[1;32m---> 63\u001b[1;33m                 \u001b[1;32mreturn\u001b[0m \u001b[0mf\u001b[0m\u001b[1;33m(\u001b[0m\u001b[1;33m*\u001b[0m\u001b[0margs\u001b[0m\u001b[1;33m,\u001b[0m \u001b[1;33m**\u001b[0m\u001b[0mkwargs\u001b[0m\u001b[1;33m)\u001b[0m\u001b[1;33m\u001b[0m\u001b[1;33m\u001b[0m\u001b[0m\n\u001b[0m\u001b[0;32m     64\u001b[0m \u001b[1;33m\u001b[0m\u001b[0m\n\u001b[0;32m     65\u001b[0m             \u001b[1;31m# extra_args > 0\u001b[0m\u001b[1;33m\u001b[0m\u001b[1;33m\u001b[0m\u001b[1;33m\u001b[0m\u001b[0m\n",
      "\u001b[1;32m~\\Anaconda3\\lib\\site-packages\\sklearn\\utils\\validation.py\u001b[0m in \u001b[0;36mcheck_X_y\u001b[1;34m(X, y, accept_sparse, accept_large_sparse, dtype, order, copy, force_all_finite, ensure_2d, allow_nd, multi_output, ensure_min_samples, ensure_min_features, y_numeric, estimator)\u001b[0m\n\u001b[0;32m    812\u001b[0m         \u001b[1;32mraise\u001b[0m \u001b[0mValueError\u001b[0m\u001b[1;33m(\u001b[0m\u001b[1;34m\"y cannot be None\"\u001b[0m\u001b[1;33m)\u001b[0m\u001b[1;33m\u001b[0m\u001b[1;33m\u001b[0m\u001b[0m\n\u001b[0;32m    813\u001b[0m \u001b[1;33m\u001b[0m\u001b[0m\n\u001b[1;32m--> 814\u001b[1;33m     X = check_array(X, accept_sparse=accept_sparse,\n\u001b[0m\u001b[0;32m    815\u001b[0m                     \u001b[0maccept_large_sparse\u001b[0m\u001b[1;33m=\u001b[0m\u001b[0maccept_large_sparse\u001b[0m\u001b[1;33m,\u001b[0m\u001b[1;33m\u001b[0m\u001b[1;33m\u001b[0m\u001b[0m\n\u001b[0;32m    816\u001b[0m                     \u001b[0mdtype\u001b[0m\u001b[1;33m=\u001b[0m\u001b[0mdtype\u001b[0m\u001b[1;33m,\u001b[0m \u001b[0morder\u001b[0m\u001b[1;33m=\u001b[0m\u001b[0morder\u001b[0m\u001b[1;33m,\u001b[0m \u001b[0mcopy\u001b[0m\u001b[1;33m=\u001b[0m\u001b[0mcopy\u001b[0m\u001b[1;33m,\u001b[0m\u001b[1;33m\u001b[0m\u001b[1;33m\u001b[0m\u001b[0m\n",
      "\u001b[1;32m~\\Anaconda3\\lib\\site-packages\\sklearn\\utils\\validation.py\u001b[0m in \u001b[0;36minner_f\u001b[1;34m(*args, **kwargs)\u001b[0m\n\u001b[0;32m     61\u001b[0m             \u001b[0mextra_args\u001b[0m \u001b[1;33m=\u001b[0m \u001b[0mlen\u001b[0m\u001b[1;33m(\u001b[0m\u001b[0margs\u001b[0m\u001b[1;33m)\u001b[0m \u001b[1;33m-\u001b[0m \u001b[0mlen\u001b[0m\u001b[1;33m(\u001b[0m\u001b[0mall_args\u001b[0m\u001b[1;33m)\u001b[0m\u001b[1;33m\u001b[0m\u001b[1;33m\u001b[0m\u001b[0m\n\u001b[0;32m     62\u001b[0m             \u001b[1;32mif\u001b[0m \u001b[0mextra_args\u001b[0m \u001b[1;33m<=\u001b[0m \u001b[1;36m0\u001b[0m\u001b[1;33m:\u001b[0m\u001b[1;33m\u001b[0m\u001b[1;33m\u001b[0m\u001b[0m\n\u001b[1;32m---> 63\u001b[1;33m                 \u001b[1;32mreturn\u001b[0m \u001b[0mf\u001b[0m\u001b[1;33m(\u001b[0m\u001b[1;33m*\u001b[0m\u001b[0margs\u001b[0m\u001b[1;33m,\u001b[0m \u001b[1;33m**\u001b[0m\u001b[0mkwargs\u001b[0m\u001b[1;33m)\u001b[0m\u001b[1;33m\u001b[0m\u001b[1;33m\u001b[0m\u001b[0m\n\u001b[0m\u001b[0;32m     64\u001b[0m \u001b[1;33m\u001b[0m\u001b[0m\n\u001b[0;32m     65\u001b[0m             \u001b[1;31m# extra_args > 0\u001b[0m\u001b[1;33m\u001b[0m\u001b[1;33m\u001b[0m\u001b[1;33m\u001b[0m\u001b[0m\n",
      "\u001b[1;32m~\\Anaconda3\\lib\\site-packages\\sklearn\\utils\\validation.py\u001b[0m in \u001b[0;36mcheck_array\u001b[1;34m(array, accept_sparse, accept_large_sparse, dtype, order, copy, force_all_finite, ensure_2d, allow_nd, ensure_min_samples, ensure_min_features, estimator)\u001b[0m\n\u001b[0;32m    653\u001b[0m                 \u001b[0marray\u001b[0m \u001b[1;33m=\u001b[0m \u001b[0marray\u001b[0m\u001b[1;33m.\u001b[0m\u001b[0mastype\u001b[0m\u001b[1;33m(\u001b[0m\u001b[0mnp\u001b[0m\u001b[1;33m.\u001b[0m\u001b[0mfloat64\u001b[0m\u001b[1;33m)\u001b[0m\u001b[1;33m\u001b[0m\u001b[1;33m\u001b[0m\u001b[0m\n\u001b[0;32m    654\u001b[0m             \u001b[1;32mexcept\u001b[0m \u001b[0mValueError\u001b[0m \u001b[1;32mas\u001b[0m \u001b[0me\u001b[0m\u001b[1;33m:\u001b[0m\u001b[1;33m\u001b[0m\u001b[1;33m\u001b[0m\u001b[0m\n\u001b[1;32m--> 655\u001b[1;33m                 raise ValueError(\n\u001b[0m\u001b[0;32m    656\u001b[0m                     \u001b[1;34m\"Unable to convert array of bytes/strings \"\u001b[0m\u001b[1;33m\u001b[0m\u001b[1;33m\u001b[0m\u001b[0m\n\u001b[0;32m    657\u001b[0m                     \"into decimal numbers with dtype='numeric'\") from e\n",
      "\u001b[1;31mValueError\u001b[0m: Unable to convert array of bytes/strings into decimal numbers with dtype='numeric'"
     ]
    }
   ],
   "source": [
    "model = LinearRegression()\n",
    "model.fit(X_train, y_train)\n",
    "print(model.score(X_train, y_train))\n",
    "model.score(X_test, y_test)"
   ]
  },
  {
   "cell_type": "code",
   "execution_count": null,
   "id": "3d123e7f",
   "metadata": {},
   "outputs": [],
   "source": []
  }
 ],
 "metadata": {
  "kernelspec": {
   "display_name": "Python 3",
   "language": "python",
   "name": "python3"
  },
  "language_info": {
   "codemirror_mode": {
    "name": "ipython",
    "version": 3
   },
   "file_extension": ".py",
   "mimetype": "text/x-python",
   "name": "python",
   "nbconvert_exporter": "python",
   "pygments_lexer": "ipython3",
   "version": "3.8.8"
  }
 },
 "nbformat": 4,
 "nbformat_minor": 5
}
